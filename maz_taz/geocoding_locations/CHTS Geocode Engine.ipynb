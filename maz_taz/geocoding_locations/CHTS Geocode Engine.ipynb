{
 "cells": [
  {
   "cell_type": "markdown",
   "metadata": {},
   "source": [
    "# 2012/2013 California Household Travel Survey Geo-coding Engine\n",
    "\n",
    "## Purpose\n",
    "Geo-code locations in the 2012/2013 CHTS to geographies from *Travel Model One* and *Travel Model Two*.\n",
    "\n",
    "## Status\n",
    "Seems to be working.\n",
    "\n",
    "`TODO` Manually check a handful of results\n",
    "\n",
    "## Versions\n",
    "*Travel Model One*:  Stable TAZ 1454 System\n",
    "\n",
    "*Travel Model Two*:  Version 1.0 of the MAZ + TAZ system, Geo-database provided by PB: `mtctm2zonesRevised` renamed `mtctm2zonesv10`\n",
    "\n",
    "*Travel Model Two*: Version 2.2 of the MAZ + TAZ system\n"
   ]
  },
  {
   "cell_type": "markdown",
   "metadata": {},
   "source": [
    "## Execution Steps\n",
    "\n",
    "### Globals"
   ]
  },
  {
   "cell_type": "code",
   "execution_count": 1,
   "metadata": {},
   "outputs": [],
   "source": [
    "import os\n",
    "workspace = 'M:/Data/HomeInterview/2010/Geocoding Engine/'"
   ]
  },
  {
   "cell_type": "markdown",
   "metadata": {},
   "source": [
    "### Input Files\n",
    "\n",
    "#### 01 Place File"
   ]
  },
  {
   "cell_type": "code",
   "execution_count": 2,
   "metadata": {},
   "outputs": [
    {
     "name": "stdout",
     "output_type": "stream",
     "text": [
      "Step a:  Processing chts2010_place_locations.csv ...\n",
      "Step b:  Geo-coding to tm2_maz_v1 Geographies ...\n",
      "Step c:  XY event layer created ...\n",
      "Step d:  Copied features ...\n",
      "Step e:  Geo-coded points to TAZ/MAZ boundaries ...\n",
      "Step f:  Write to M:/Data/HomeInterview/2010/Geocoding Engine/gis_geocode.csv ...\n",
      "Step g:  Write to M:/Data/HomeInterview/2010/Geocoding Engine/chts2010_place_locations_geo_tm2v1.csv ...\n",
      "Finished:  OnBoardGeocoding for chts2010_place_locations.csv.\n",
      "\n",
      "\n"
     ]
    }
   ],
   "source": [
    "target_geography= 'tm2_maz_v1'\n",
    "input_file_name = 'chts2010_place_locations.csv'\n",
    "x_field         = 'dXCORD'\n",
    "y_field         = 'dYCORD'\n",
    "keep_fields     = ['SAMPN','PERNO','PLANO','dXCORD','dYCORD','MAZ_ORIGINAL','maz_v2_2','TAZ1454']\n",
    "output_file_name = 'chts2010_place_locations_geo_tm2v1.csv'\n",
    "\n",
    "%run -i NotebookGoGeocode.py"
   ]
  },
  {
   "cell_type": "code",
   "execution_count": 3,
   "metadata": {},
   "outputs": [
    {
     "name": "stdout",
     "output_type": "stream",
     "text": [
      "Step a:  Processing chts2010_place_locations_geo_tm2v1.csv ...\n",
      "Step b:  Geo-coding to tm2_maz_v2_2 Geographies ...\n",
      "Step c:  XY event layer created ...\n",
      "Step d:  Copied features ...\n",
      "Step e:  Geo-coded points to TAZ/MAZ boundaries ...\n",
      "Step f:  Write to M:/Data/HomeInterview/2010/Geocoding Engine/gis_geocode.csv ...\n",
      "Step g:  Write to M:/Data/HomeInterview/2010/Geocoding Engine/chts2010_place_locations_geo_tm2v1_tm2v2.csv ...\n",
      "Finished:  OnBoardGeocoding for chts2010_place_locations_geo_tm2v1.csv.\n",
      "\n",
      "\n"
     ]
    }
   ],
   "source": [
    "target_geography= 'tm2_maz_v2_2'\n",
    "input_file_name = output_file_name\n",
    "x_field         = 'dXCORD'\n",
    "y_field         = 'dYCORD'\n",
    "keep_fields     = ['SAMPN','PERNO','PLANO','dXCORD','dYCORD','MAZ_ORIGINAL','maz_v2_2','TAZ1454']\n",
    "output_file_name = 'chts2010_place_locations_geo_tm2v1_tm2v2.csv'\n",
    "\n",
    "%run -i NotebookGoGeocode.py\n",
    "\n",
    "# Clean up intermediate files\n",
    "os.remove(os.path.join(workspace, input_file_name))"
   ]
  },
  {
   "cell_type": "code",
   "execution_count": 4,
   "metadata": {},
   "outputs": [
    {
     "name": "stdout",
     "output_type": "stream",
     "text": [
      "Step a:  Processing chts2010_place_locations_geo_tm2v1_tm2v2.csv ...\n",
      "Step b:  Geo-coding to tm1_taz1454 Geographies ...\n",
      "Step c:  XY event layer created ...\n",
      "Step d:  Copied features ...\n",
      "Step e:  Geo-coded points to TAZ/MAZ boundaries ...\n",
      "Step f:  Write to M:/Data/HomeInterview/2010/Geocoding Engine/gis_geocode.csv ...\n",
      "Step g:  Write to M:/Data/HomeInterview/2010/Geocoding Engine/chts2010_place_locations_geo_tm1_tm2.csv ...\n",
      "Finished:  OnBoardGeocoding for chts2010_place_locations_geo_tm2v1_tm2v2.csv.\n",
      "\n",
      "\n"
     ]
    }
   ],
   "source": [
    "target_geography= 'tm1_taz1454'\n",
    "input_file_name = output_file_name\n",
    "x_field         = 'dXCORD'\n",
    "y_field         = 'dYCORD'\n",
    "keep_fields     = ['SAMPN','PERNO','PLANO','MAZ_ORIGINAL','maz_v2_2','TAZ1454'] # final-- drop coords\n",
    "output_file_name = 'chts2010_place_locations_geo_tm1_tm2.csv'\n",
    "\n",
    "%run -i NotebookGoGeocode.py\n",
    "\n",
    "# Clean up intermediate files\n",
    "os.remove(os.path.join(workspace, input_file_name))"
   ]
  },
  {
   "cell_type": "markdown",
   "metadata": {},
   "source": [
    "#### 02 Household File"
   ]
  },
  {
   "cell_type": "code",
   "execution_count": 5,
   "metadata": {},
   "outputs": [
    {
     "name": "stdout",
     "output_type": "stream",
     "text": [
      "Step a:  Processing chts2010_home_locations.csv ...\n",
      "Step b:  Geo-coding to tm2_maz_v1 Geographies ...\n",
      "Step c:  XY event layer created ...\n",
      "Step d:  Copied features ...\n",
      "Step e:  Geo-coded points to TAZ/MAZ boundaries ...\n",
      "Step f:  Write to M:/Data/HomeInterview/2010/Geocoding Engine/gis_geocode.csv ...\n",
      "Step g:  Write to M:/Data/HomeInterview/2010/Geocoding Engine/chts2010_home_locations_geo_tm2v1.csv ...\n",
      "Finished:  OnBoardGeocoding for chts2010_home_locations.csv.\n",
      "\n",
      "\n"
     ]
    }
   ],
   "source": [
    "target_geography= 'tm2_maz_v1'\n",
    "input_file_name = 'chts2010_home_locations.csv'\n",
    "x_field         = 'HXCORD'\n",
    "y_field         = 'HYCORD'\n",
    "keep_fields     = ['SAMPN','HXCORD','HYCORD','MAZ_ORIGINAL','maz_v2_2','TAZ1454']\n",
    "output_file_name = 'chts2010_home_locations_geo_tm2v1.csv'\n",
    "\n",
    "%run -i NotebookGoGeocode.py"
   ]
  },
  {
   "cell_type": "code",
   "execution_count": 6,
   "metadata": {},
   "outputs": [
    {
     "name": "stdout",
     "output_type": "stream",
     "text": [
      "Step a:  Processing chts2010_home_locations_geo_tm2v1.csv ...\n",
      "Step b:  Geo-coding to tm2_maz_v2_2 Geographies ...\n",
      "Step c:  XY event layer created ...\n",
      "Step d:  Copied features ...\n",
      "Step e:  Geo-coded points to TAZ/MAZ boundaries ...\n",
      "Step f:  Write to M:/Data/HomeInterview/2010/Geocoding Engine/gis_geocode.csv ...\n",
      "Step g:  Write to M:/Data/HomeInterview/2010/Geocoding Engine/chts2010_home_locations_geo_tm2v1_tm2v2.csv ...\n",
      "Finished:  OnBoardGeocoding for chts2010_home_locations_geo_tm2v1.csv.\n",
      "\n",
      "\n"
     ]
    }
   ],
   "source": [
    "target_geography= 'tm2_maz_v2_2'\n",
    "input_file_name = output_file_name\n",
    "x_field         = 'HXCORD'\n",
    "y_field         = 'HYCORD'\n",
    "keep_fields     = ['SAMPN','HXCORD','HYCORD','MAZ_ORIGINAL','maz_v2_2','TAZ1454']\n",
    "output_file_name = 'chts2010_home_locations_geo_tm2v1_tm2v2.csv'\n",
    "\n",
    "%run -i NotebookGoGeocode.py\n",
    "\n",
    "# Clean up intermediate files\n",
    "os.remove(os.path.join(workspace, input_file_name))"
   ]
  },
  {
   "cell_type": "code",
   "execution_count": 7,
   "metadata": {},
   "outputs": [
    {
     "name": "stdout",
     "output_type": "stream",
     "text": [
      "Step a:  Processing chts2010_home_locations_geo_tm2v1_tm2v2.csv ...\n",
      "Step b:  Geo-coding to tm1_taz1454 Geographies ...\n",
      "Step c:  XY event layer created ...\n",
      "Step d:  Copied features ...\n",
      "Step e:  Geo-coded points to TAZ/MAZ boundaries ...\n",
      "Step f:  Write to M:/Data/HomeInterview/2010/Geocoding Engine/gis_geocode.csv ...\n",
      "Step g:  Write to M:/Data/HomeInterview/2010/Geocoding Engine/chts2010_home_locations_geo_tm1_tm2.csv ...\n",
      "Finished:  OnBoardGeocoding for chts2010_home_locations_geo_tm2v1_tm2v2.csv.\n",
      "\n",
      "\n"
     ]
    }
   ],
   "source": [
    "target_geography= 'tm1_taz1454'\n",
    "input_file_name = output_file_name\n",
    "x_field         = 'HXCORD'\n",
    "y_field         = 'HYCORD'\n",
    "keep_fields     = ['SAMPN','MAZ_ORIGINAL','maz_v2_2','TAZ1454'] # final-- drop coords\n",
    "output_file_name = 'chts2010_home_locations_geo_tm1_tm2.csv'\n",
    "\n",
    "%run -i NotebookGoGeocode.py\n",
    "\n",
    "# Clean up intermediate files\n",
    "os.remove(os.path.join(workspace, input_file_name))"
   ]
  },
  {
   "cell_type": "markdown",
   "metadata": {},
   "source": [
    "#### 03 School Locations File\n",
    "An odd bug in the `arcpy` call came up when running the combined script.  The individual scripts seem to work fine.  I then manually combined in Excel."
   ]
  },
  {
   "cell_type": "code",
   "execution_count": 8,
   "metadata": {},
   "outputs": [
    {
     "name": "stdout",
     "output_type": "stream",
     "text": [
      "Step a:  Processing chts2010_schl_locations.csv ...\n",
      "Step b:  Geo-coding to tm2_maz_v1 Geographies ...\n",
      "Step c:  XY event layer created ...\n",
      "Step d:  Copied features ...\n",
      "Step e:  Geo-coded points to TAZ/MAZ boundaries ...\n",
      "Step f:  Write to M:/Data/HomeInterview/2010/Geocoding Engine/gis_geocode.csv ...\n",
      "Step g:  Write to M:/Data/HomeInterview/2010/Geocoding Engine/chts2010_schl_locations_geo_tm2v1.csv ...\n",
      "Finished:  OnBoardGeocoding for chts2010_schl_locations.csv.\n",
      "\n",
      "\n"
     ]
    }
   ],
   "source": [
    "target_geography= 'tm2_maz_v1'\n",
    "input_file_name = 'chts2010_schl_locations.csv'\n",
    "x_field         = 'SXCORD'\n",
    "y_field         = 'SYCORD'\n",
    "keep_fields     = ['SAMPN','PERNO','SXCORD','SYCORD','MAZ_ORIGINAL','maz_v2_2','TAZ1454']\n",
    "output_file_name = 'chts2010_schl_locations_geo_tm2v1.csv'\n",
    "\n",
    "%run -i NotebookGoGeocode.py"
   ]
  },
  {
   "cell_type": "code",
   "execution_count": 9,
   "metadata": {},
   "outputs": [
    {
     "name": "stdout",
     "output_type": "stream",
     "text": [
      "Step a:  Processing chts2010_schl_locations_geo_tm2v1.csv ...\n",
      "Step b:  Geo-coding to tm2_maz_v2_2 Geographies ...\n",
      "Step c:  XY event layer created ...\n",
      "Step d:  Copied features ...\n",
      "Step e:  Geo-coded points to TAZ/MAZ boundaries ...\n",
      "Step f:  Write to M:/Data/HomeInterview/2010/Geocoding Engine/gis_geocode.csv ...\n",
      "Step g:  Write to M:/Data/HomeInterview/2010/Geocoding Engine/chts2010_schl_locations_geo_tm2v1_tm2v2.csv ...\n",
      "Finished:  OnBoardGeocoding for chts2010_schl_locations_geo_tm2v1.csv.\n",
      "\n",
      "\n"
     ]
    }
   ],
   "source": [
    "target_geography= 'tm2_maz_v2_2'\n",
    "input_file_name = output_file_name\n",
    "x_field         = 'SXCORD'\n",
    "y_field         = 'SYCORD'\n",
    "keep_fields     = ['SAMPN','PERNO','SXCORD','SYCORD','MAZ_ORIGINAL','maz_v2_2','TAZ1454']\n",
    "output_file_name = 'chts2010_schl_locations_geo_tm2v1_tm2v2.csv'\n",
    "\n",
    "%run -i NotebookGoGeocode.py\n",
    "\n",
    "# Clean up intermediate files\n",
    "os.remove(os.path.join(workspace, input_file_name))"
   ]
  },
  {
   "cell_type": "code",
   "execution_count": 10,
   "metadata": {},
   "outputs": [
    {
     "name": "stdout",
     "output_type": "stream",
     "text": [
      "Step a:  Processing chts2010_schl_locations_geo_tm2v1_tm2v2.csv ...\n",
      "Step b:  Geo-coding to tm1_taz1454 Geographies ...\n",
      "Step c:  XY event layer created ...\n",
      "Step d:  Copied features ...\n",
      "Step e:  Geo-coded points to TAZ/MAZ boundaries ...\n",
      "Step f:  Write to M:/Data/HomeInterview/2010/Geocoding Engine/gis_geocode.csv ...\n",
      "Step g:  Write to M:/Data/HomeInterview/2010/Geocoding Engine/chts2010_schl_locations_geo_tm1_tm2.csv ...\n",
      "Finished:  OnBoardGeocoding for chts2010_schl_locations_geo_tm2v1_tm2v2.csv.\n",
      "\n",
      "\n"
     ]
    }
   ],
   "source": [
    "target_geography= 'tm1_taz1454'\n",
    "input_file_name = output_file_name\n",
    "x_field         = 'SXCORD'\n",
    "y_field         = 'SYCORD'\n",
    "keep_fields     = ['SAMPN','PERNO','MAZ_ORIGINAL','maz_v2_2','TAZ1454'] # final-- drop coords\n",
    "output_file_name = 'chts2010_schl_locations_geo_tm1_tm2.csv'\n",
    "\n",
    "%run -i NotebookGoGeocode.py\n",
    "\n",
    "# Clean up intermediate files\n",
    "os.remove(os.path.join(workspace, input_file_name))"
   ]
  },
  {
   "cell_type": "markdown",
   "metadata": {},
   "source": [
    "#### 04 Work Locations\n",
    "An odd bug in the `arcpy` call came up when running the combined script.  The individual scripts seem to work fine.  I then manually combined in Excel."
   ]
  },
  {
   "cell_type": "code",
   "execution_count": 11,
   "metadata": {},
   "outputs": [
    {
     "name": "stdout",
     "output_type": "stream",
     "text": [
      "Step a:  Processing chts2010_work_locations.csv ...\n",
      "Step b:  Geo-coding to tm2_maz_v1 Geographies ...\n",
      "Step c:  XY event layer created ...\n",
      "Step d:  Copied features ...\n",
      "Step e:  Geo-coded points to TAZ/MAZ boundaries ...\n",
      "Step f:  Write to M:/Data/HomeInterview/2010/Geocoding Engine/gis_geocode.csv ...\n",
      "Step g:  Write to M:/Data/HomeInterview/2010/Geocoding Engine/chts2010_work_locations_geo_tm2v1.csv ...\n",
      "Finished:  OnBoardGeocoding for chts2010_work_locations.csv.\n",
      "\n",
      "\n"
     ]
    }
   ],
   "source": [
    "target_geography= 'tm2_maz_v1'\n",
    "input_file_name = 'chts2010_work_locations.csv'\n",
    "x_field         = 'WXCORD'\n",
    "y_field         = 'WYCORD'\n",
    "keep_fields     = ['SAMPN','PERNO','WXCORD','WYCORD','MAZ_ORIGINAL','maz_v2_2','TAZ1454']\n",
    "output_file_name = 'chts2010_work_locations_geo_tm2v1.csv'\n",
    "\n",
    "%run -i NotebookGoGeocode.py"
   ]
  },
  {
   "cell_type": "code",
   "execution_count": 12,
   "metadata": {},
   "outputs": [
    {
     "name": "stdout",
     "output_type": "stream",
     "text": [
      "Step a:  Processing chts2010_work_locations_geo_tm2v1.csv ...\n",
      "Step b:  Geo-coding to tm2_maz_v2_2 Geographies ...\n",
      "Step c:  XY event layer created ...\n",
      "Step d:  Copied features ...\n",
      "Step e:  Geo-coded points to TAZ/MAZ boundaries ...\n",
      "Step f:  Write to M:/Data/HomeInterview/2010/Geocoding Engine/gis_geocode.csv ...\n",
      "Step g:  Write to M:/Data/HomeInterview/2010/Geocoding Engine/chts2010_work_locations_geo_tm2v1_tm2v2.csv ...\n",
      "Finished:  OnBoardGeocoding for chts2010_work_locations_geo_tm2v1.csv.\n",
      "\n",
      "\n"
     ]
    }
   ],
   "source": [
    "target_geography= 'tm2_maz_v2_2'\n",
    "input_file_name = output_file_name\n",
    "x_field         = 'WXCORD'\n",
    "y_field         = 'WYCORD'\n",
    "keep_fields     = ['SAMPN','PERNO','WXCORD','WYCORD','MAZ_ORIGINAL','maz_v2_2','TAZ1454']\n",
    "output_file_name = 'chts2010_work_locations_geo_tm2v1_tm2v2.csv'\n",
    "\n",
    "%run -i NotebookGoGeocode.py\n",
    "\n",
    "# Clean up intermediate files\n",
    "os.remove(os.path.join(workspace, input_file_name))"
   ]
  },
  {
   "cell_type": "code",
   "execution_count": 13,
   "metadata": {},
   "outputs": [
    {
     "name": "stdout",
     "output_type": "stream",
     "text": [
      "Step a:  Processing chts2010_work_locations_geo_tm2v1_tm2v2.csv ...\n",
      "Step b:  Geo-coding to tm1_taz1454 Geographies ...\n",
      "Step c:  XY event layer created ...\n",
      "Step d:  Copied features ...\n",
      "Step e:  Geo-coded points to TAZ/MAZ boundaries ...\n",
      "Step f:  Write to M:/Data/HomeInterview/2010/Geocoding Engine/gis_geocode.csv ...\n",
      "Step g:  Write to M:/Data/HomeInterview/2010/Geocoding Engine/chts2010_work_locations_geo_tm1_tm2.csv ...\n",
      "Finished:  OnBoardGeocoding for chts2010_work_locations_geo_tm2v1_tm2v2.csv.\n",
      "\n",
      "\n"
     ]
    }
   ],
   "source": [
    "target_geography= 'tm1_taz1454'\n",
    "input_file_name = output_file_name\n",
    "x_field         = 'WXCORD'\n",
    "y_field         = 'WYCORD'\n",
    "keep_fields     = ['SAMPN','PERNO','MAZ_ORIGINAL','maz_v2_2','TAZ1454']  # final-- drop coords\n",
    "output_file_name = 'chts2010_work_locations_geo_tm1_tm2.csv'\n",
    "\n",
    "%run -i NotebookGoGeocode.py\n",
    "\n",
    "# Clean up intermediate files\n",
    "os.remove(os.path.join(workspace, input_file_name))"
   ]
  }
 ],
 "metadata": {
  "kernelspec": {
   "display_name": "Python 3",
   "language": "python",
   "name": "python3"
  },
  "language_info": {
   "codemirror_mode": {
    "name": "ipython",
    "version": 3
   },
   "file_extension": ".py",
   "mimetype": "text/x-python",
   "name": "python",
   "nbconvert_exporter": "python",
   "pygments_lexer": "ipython3",
   "version": "3.6.5"
  }
 },
 "nbformat": 4,
 "nbformat_minor": 1
}
