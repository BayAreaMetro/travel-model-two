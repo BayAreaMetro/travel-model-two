{
 "cells": [
  {
   "cell_type": "code",
   "execution_count": 1,
   "metadata": {
    "execution": {
     "iopub.execute_input": "2020-12-18T16:23:53.305438Z",
     "iopub.status.busy": "2020-12-18T16:23:53.304295Z",
     "iopub.status.idle": "2020-12-18T16:23:54.461895Z",
     "shell.execute_reply": "2020-12-18T16:23:54.462604Z"
    }
   },
   "outputs": [],
   "source": [
    "import pandas as pd\n",
    "import matplotlib.pyplot as plt\n",
    "from matplotlib import colors\n",
    "import seaborn as sns\n",
    "import numpy as np"
   ]
  },
  {
   "cell_type": "markdown",
   "metadata": {},
   "source": [
    "### Basic settings"
   ]
  },
  {
   "cell_type": "code",
   "execution_count": 2,
   "metadata": {
    "execution": {
     "iopub.execute_input": "2020-12-18T16:23:54.468051Z",
     "iopub.status.busy": "2020-12-18T16:23:54.467223Z",
     "iopub.status.idle": "2020-12-18T16:23:54.469599Z",
     "shell.execute_reply": "2020-12-18T16:23:54.470334Z"
    }
   },
   "outputs": [],
   "source": [
    "skim_type = 'dist'\n",
    "time = 'AM'\n",
    "var = 'DISTDA'\n",
    "geo = 'taz'\n",
    "mode = 'auto'\n",
    "mtc_fname = f'../data/outputs/{mode}/{geo}_{skim_type}_skim_{time}_perveh.csv'\n",
    "new_fname = f'../data/new_outputs/{mode}/{geo}_{skim_type}_skim_{time}_perveh.csv'"
   ]
  },
  {
   "cell_type": "markdown",
   "metadata": {},
   "source": [
    "### Helper functions"
   ]
  },
  {
   "cell_type": "code",
   "execution_count": 3,
   "metadata": {
    "execution": {
     "iopub.execute_input": "2020-12-18T16:23:54.479884Z",
     "iopub.status.busy": "2020-12-18T16:23:54.479180Z",
     "iopub.status.idle": "2020-12-18T16:23:54.481462Z",
     "shell.execute_reply": "2020-12-18T16:23:54.482044Z"
    }
   },
   "outputs": [],
   "source": [
    "def compare_skim(mtc_skim, new_skim, var, geo):\n",
    "    # select column to compare\n",
    "    select_col = [f'{geo}_o', f'{geo}_d', var]\n",
    "    mtc_skim = mtc_skim[select_col]\n",
    "    new_skim = new_skim[select_col].rename(columns={var:f'{var}_new'})\n",
    "\n",
    "    print('mtc skim shape:', mtc_skim.shape)\n",
    "    print('new skim shape:', new_skim.shape)\n",
    "\n",
    "    # table join two skims based on OD pair\n",
    "    skim = pd.merge(mtc_skim, new_skim, how='inner', on=[f'{geo}_o', f'{geo}_d'])\n",
    "    # print(skim.shape)\n",
    "    print(skim.head())\n",
    "    print('table join completed')\n",
    "\n",
    "    # calculate differences\n",
    "    skim['diff'] = round(skim[f'{var}_new'] - skim[var], 3)\n",
    "    skim['pctdiff'] = round(skim['diff'] / skim[var], 3)\n",
    "    skim = skim.sort_values(by=f'diff', ascending=False)\n",
    "    \n",
    "    return skim\n",
    "\n",
    "def get_n_large_skim_diff(skim_diff, diff_col, n):\n",
    "    skim_diff_sorted = skim_diff.sort_values(by=diff_col, ascending=False)\n",
    "    pos_rows = skim_diff_sorted.head(n)\n",
    "    neg_rows = skim_diff_sorted.tail(n)\n",
    "\n",
    "    return pd.concat([pos_rows, neg_rows], ignore_index=True)\n",
    "\n",
    "def skim_diff_stat(skim, var):\n",
    "    # RMSE\n",
    "    rmse = ((skim[f'{var}_new'] - skim[var])**2).mean() ** 0.5\n",
    "    # R-squared\n",
    "    ssr = ((skim[var] - skim[f'{var}_new'])**2).sum()\n",
    "    sst = ((skim[var] - skim[var].mean())**2).sum()\n",
    "    # print('ssr:', ssr)\n",
    "    # print('sst:', sst)\n",
    "    # print('mean:', skim[var].mean())\n",
    "    r2 = 1 - ssr / sst\n",
    "\n",
    "    return (rmse, r2)"
   ]
  },
  {
   "cell_type": "markdown",
   "metadata": {},
   "source": [
    "### Data Processing"
   ]
  },
  {
   "cell_type": "code",
   "execution_count": 4,
   "metadata": {
    "execution": {
     "iopub.execute_input": "2020-12-18T16:23:54.486417Z",
     "iopub.status.busy": "2020-12-18T16:23:54.485563Z",
     "iopub.status.idle": "2020-12-18T16:24:23.132693Z",
     "shell.execute_reply": "2020-12-18T16:24:23.134369Z"
    }
   },
   "outputs": [],
   "source": [
    "# load data\n",
    "mtc_skim = pd.read_csv(mtc_fname)\n",
    "new_skim = pd.read_csv(new_fname)"
   ]
  },
  {
   "cell_type": "code",
   "execution_count": 5,
   "metadata": {
    "execution": {
     "iopub.execute_input": "2020-12-18T16:24:23.622073Z",
     "iopub.status.busy": "2020-12-18T16:24:23.621565Z",
     "iopub.status.idle": "2020-12-18T16:24:39.364077Z",
     "shell.execute_reply": "2020-12-18T16:24:39.364675Z"
    }
   },
   "outputs": [
    {
     "name": "stdout",
     "output_type": "stream",
     "text": [
      "mtc skim shape: (22420225, 3)\n",
      "new skim shape: (22420225, 3)\n",
      "   taz_o  taz_d  DISTDA  DISTDA_new\n",
      "0      1      1    0.15        0.14\n",
      "1      1      2    0.56        0.79\n",
      "2      1      3    0.36        0.41\n",
      "3      1      4    6.94        6.42\n",
      "4      1      5    0.35        0.43\n",
      "table join completed\n"
     ]
    }
   ],
   "source": [
    "# compare skim\n",
    "skim_diff = compare_skim(mtc_skim, new_skim, var, geo)"
   ]
  },
  {
   "cell_type": "code",
   "execution_count": 6,
   "metadata": {
    "execution": {
     "iopub.execute_input": "2020-12-18T16:24:39.372246Z",
     "iopub.status.busy": "2020-12-18T16:24:39.371407Z",
     "iopub.status.idle": "2020-12-18T16:24:51.119566Z",
     "shell.execute_reply": "2020-12-18T16:24:51.120239Z"
    }
   },
   "outputs": [],
   "source": [
    "bp = [25, 50, 75, 100] # break points\n",
    "conditions = [\n",
    "    skim_diff['DISTDA']<= bp[0], skim_diff['DISTDA']<= bp[1], skim_diff['DISTDA']<= bp[2], skim_diff['DISTDA']<= bp[3], skim_diff['DISTDA']> bp[3]\n",
    "]\n",
    "choices = ['<=25', '<=50', '<=75', '<=100', '>100']\n",
    "skim_diff['group'] = np.select(conditions, choices, default=0)\n",
    "\n",
    "g1 = skim_diff[skim_diff['group']==choices[0]]\n",
    "g2 = skim_diff[skim_diff['group']==choices[1]]\n",
    "g3 = skim_diff[skim_diff['group']==choices[2]]\n",
    "g4 = skim_diff[skim_diff['group']==choices[3]]\n",
    "g5 = skim_diff[skim_diff['group']==choices[4]]"
   ]
  },
  {
   "cell_type": "markdown",
   "metadata": {},
   "source": [
    "## Results\n",
    "### Summary Statistics"
   ]
  },
  {
   "cell_type": "code",
   "execution_count": 7,
   "metadata": {
    "execution": {
     "iopub.execute_input": "2020-12-18T16:24:51.129671Z",
     "iopub.status.busy": "2020-12-18T16:24:51.129019Z",
     "iopub.status.idle": "2020-12-18T16:24:52.182252Z",
     "shell.execute_reply": "2020-12-18T16:24:52.182809Z"
    }
   },
   "outputs": [
    {
     "name": "stdout",
     "output_type": "stream",
     "text": [
      "RMSE: 4.175149058800615\n",
      "R-squared: 0.9712049283771292\n"
     ]
    }
   ],
   "source": [
    "rmse, r2 = skim_diff_stat(skim_diff, var)\n",
    "print('RMSE:', rmse)\n",
    "print('R-squared:', r2)"
   ]
  },
  {
   "cell_type": "code",
   "execution_count": 8,
   "metadata": {
    "execution": {
     "iopub.execute_input": "2020-12-18T16:24:52.191005Z",
     "iopub.status.busy": "2020-12-18T16:24:52.190266Z",
     "iopub.status.idle": "2020-12-18T16:24:52.831911Z",
     "shell.execute_reply": "2020-12-18T16:24:52.832509Z"
    }
   },
   "outputs": [
    {
     "data": {
      "text/html": [
       "<div>\n",
       "<style scoped>\n",
       "    .dataframe tbody tr th:only-of-type {\n",
       "        vertical-align: middle;\n",
       "    }\n",
       "\n",
       "    .dataframe tbody tr th {\n",
       "        vertical-align: top;\n",
       "    }\n",
       "\n",
       "    .dataframe thead th {\n",
       "        text-align: right;\n",
       "    }\n",
       "</style>\n",
       "<table border=\"1\" class=\"dataframe\">\n",
       "  <thead>\n",
       "    <tr style=\"text-align: right;\">\n",
       "      <th></th>\n",
       "      <th>dist_group</th>\n",
       "      <th>count</th>\n",
       "      <th>rmse</th>\n",
       "      <th>r2</th>\n",
       "    </tr>\n",
       "  </thead>\n",
       "  <tbody>\n",
       "    <tr>\n",
       "      <th>0</th>\n",
       "      <td>&lt;=25</td>\n",
       "      <td>6383591</td>\n",
       "      <td>1.784020</td>\n",
       "      <td>0.932004</td>\n",
       "    </tr>\n",
       "    <tr>\n",
       "      <th>1</th>\n",
       "      <td>&lt;=50</td>\n",
       "      <td>8723635</td>\n",
       "      <td>3.491578</td>\n",
       "      <td>0.765132</td>\n",
       "    </tr>\n",
       "    <tr>\n",
       "      <th>2</th>\n",
       "      <td>&lt;=75</td>\n",
       "      <td>5074622</td>\n",
       "      <td>5.369559</td>\n",
       "      <td>0.412705</td>\n",
       "    </tr>\n",
       "    <tr>\n",
       "      <th>3</th>\n",
       "      <td>&lt;=100</td>\n",
       "      <td>1681041</td>\n",
       "      <td>7.086265</td>\n",
       "      <td>-0.053728</td>\n",
       "    </tr>\n",
       "    <tr>\n",
       "      <th>4</th>\n",
       "      <td>&gt;100</td>\n",
       "      <td>557336</td>\n",
       "      <td>7.745054</td>\n",
       "      <td>0.409004</td>\n",
       "    </tr>\n",
       "  </tbody>\n",
       "</table>\n",
       "</div>"
      ],
      "text/plain": [
       "  dist_group    count      rmse        r2\n",
       "0       <=25  6383591  1.784020  0.932004\n",
       "1       <=50  8723635  3.491578  0.765132\n",
       "2       <=75  5074622  5.369559  0.412705\n",
       "3      <=100  1681041  7.086265 -0.053728\n",
       "4       >100   557336  7.745054  0.409004"
      ]
     },
     "execution_count": 1,
     "metadata": {},
     "output_type": "execute_result"
    }
   ],
   "source": [
    "rmse_lt25, r2_lt25 = skim_diff_stat(g1, var)\n",
    "rmse_lt50, r2_lt50 = skim_diff_stat(g2, var)\n",
    "rmse_lt75, r2_lt75 = skim_diff_stat(g3, var)\n",
    "rmse_lt100, r2_lt100 = skim_diff_stat(g4, var)\n",
    "rmse_gt100, r2_gt100 = skim_diff_stat(g5, var)\n",
    "\n",
    "rmse_by_dist_group = pd.DataFrame({'dist_group': [choices[0], choices[1], choices[2], choices[3], choices[4]],\n",
    "                                   'count': [g1.shape[0], g2.shape[0], g3.shape[0], g4.shape[0], g5.shape[0]], # number of rows\n",
    "                                   'rmse': [rmse_lt25, rmse_lt50, rmse_lt75, rmse_lt100, rmse_gt100],\n",
    "                                   'r2': [r2_lt25, r2_lt50, r2_lt75, r2_lt100, r2_gt100]})\n",
    "rmse_by_dist_group"
   ]
  },
  {
   "cell_type": "markdown",
   "metadata": {},
   "source": [
    "### Plots"
   ]
  },
  {
   "cell_type": "code",
   "execution_count": 9,
   "metadata": {
    "execution": {
     "iopub.execute_input": "2020-12-18T16:24:52.875810Z",
     "iopub.status.busy": "2020-12-18T16:24:52.875253Z",
     "iopub.status.idle": "2020-12-18T16:24:55.521799Z",
     "shell.execute_reply": "2020-12-18T16:24:55.522293Z"
    }
   },
   "outputs": [
    {
     "data": {
      "image/png": "[encoded data removed]",
      "text/plain": [
       "<Figure size 576x396 with 1 Axes>"
      ]
     },
     "metadata": {},
     "output_type": "display_data"
    }
   ],
   "source": [
    "plt.style.use('seaborn')\n",
    "plt.hist2d(skim_diff[var], skim_diff[f'{var}_new'], bins=80, norm=colors.LogNorm(), cmap =\"turbo\")\n",
    "plt.gca().set_aspect(\"equal\")\n",
    "plt.grid(b=None, which='major', axis='both')\n",
    "plt.plot(np.linspace(0, 220, 300), np.linspace(0, 220, 300), color='black', lw=1.5, alpha=0.8)\n",
    "plt.text(10, 150, f'RMSE: {round(rmse,2)}\\nR-squared:{round(r2,2)}', backgroundcolor='w', fontsize=10, weight='bold', linespacing=2)\n",
    "plt.suptitle('TAZ distance skim comparison', fontsize=15, weight='bold')\n",
    "plt.title('Personal Vehicle (Drive Alone), AM', fontsize=12)\n",
    "plt.xlabel('MTC network skim (miles)', fontsize=12, labelpad=5)\n",
    "plt.ylabel('New network skim (miles)', fontsize=12, labelpad=5)\n",
    "plt.xlim((-5, 220))\n",
    "plt.ylim((-5, 220))\n",
    "plt.show()"
   ]
  },
  {
   "cell_type": "code",
   "execution_count": 10,
   "metadata": {
    "execution": {
     "iopub.execute_input": "2020-12-18T16:24:56.203494Z",
     "iopub.status.busy": "2020-12-18T16:24:56.202904Z",
     "iopub.status.idle": "2020-12-18T16:25:06.156984Z",
     "shell.execute_reply": "2020-12-18T16:25:06.157485Z"
    }
   },
   "outputs": [
    {
     "data": {
      "image/png": "[encoded data removed]",
      "text/plain": [
       "<Figure size 576x396 with 1 Axes>"
      ]
     },
     "metadata": {},
     "output_type": "display_data"
    }
   ],
   "source": [
    "sns.set_theme()\n",
    "sns.boxplot(data=skim_diff, x='group', y='diff', order=choices)\n",
    "plt.suptitle('TAZ distance skim comparison', fontsize=15, weight='bold')\n",
    "plt.title('Personal Vehicle (Drive Alone), AM', fontsize=12)\n",
    "plt.xlabel('Distance Gruop (miles)', fontsize=12, labelpad=5)\n",
    "plt.ylabel('Distance Changes (miles)', fontsize=12, labelpad=5)\n",
    "plt.show()"
   ]
  },
  {
   "cell_type": "code",
   "execution_count": null,
   "metadata": {},
   "outputs": [],
   "source": []
  }
 ],
 "metadata": {
  "kernelspec": {
   "display_name": "Python 3",
   "language": "python",
   "name": "python3"
  },
  "language_info": {
   "codemirror_mode": {
    "name": "ipython",
    "version": 3
   },
   "file_extension": ".py",
   "mimetype": "text/x-python",
   "name": "python",
   "nbconvert_exporter": "python",
   "pygments_lexer": "ipython3",
   "version": "3.8.2"
  }
 },
 "nbformat": 4,
 "nbformat_minor": 2
}
